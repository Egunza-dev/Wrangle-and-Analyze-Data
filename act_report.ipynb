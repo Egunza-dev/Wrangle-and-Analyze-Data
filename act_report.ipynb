{
 "cells": [
  {
   "cell_type": "markdown",
   "metadata": {
    "tags": []
   },
   "source": [
    "## Report: act_report"
   ]
  },
  {
   "cell_type": "markdown",
   "metadata": {},
   "source": [
    "### Insights Uncovored from the Analysis of Tweet_archive_master Dataset:\n",
    "#### 1. Distribution of Variables of Interest\n",
    "- A histogram of the rating_numerator variable depicts the data as being left skewed. Most data points lie between 10 to 13 with 12 being the most frequent rating_numerator.\n",
    "\n",
    "![Hostogram](images/hist_rating.png)\n",
    "- A histogram of the retweet_count variable depicts the data as being right-skewed. Most data points lie between 0 and 2500.\n",
    "\n",
    "![Hostogram](images/hist_retweet.png)\n",
    "- A histogram of the favorite_count variable depicts the data as being right-skewed. Most data points lie between 0 and 5000.\n",
    "\n",
    "![Hostogram](images/hist_favorite.png)\n",
    "#### 2. Relationship between Variables of interest \n",
    "- There's strong correlation between retweet_count and favorite_count variables with correlation coefficient of 0.7. A scatter plot of retweet_count against favorite_count depict most data points showcasing a linear relationship between the two variables.\n",
    "\n",
    "![Scatter](images/scatter.png)\n",
    "      \n",
    "- There's weak correlation between rating_numerator and retweet_count with correlation coefficient of 0.29 and between rating_numerator and favorite_count variables with correlation coefficient of 0.34. A scatter plot of rating_numerator against favorite_count and rating_numerator against retweet_count depict data points showcasing lack of linear relationship between the variables.\n",
    "\n",
    "![Heatmap](images/heat_map.png)\n",
    "\n",
    "\n",
    "#### 3. Analysis of Image Predictions\n",
    "\n",
    "**Most Frequent Dog Breeds**\n",
    "- For the image predictions that were true dog breeds, golden_retriever, Labrador_retriever, Pembroke and Chihuahua respectively were the most frequent in the case of the first prediction.\n",
    "- For the image predictions that were true dog breeds, Labrador_retriever, golden_retriever, Cardigan and Chihuahua respectively were the most frequent in the case of the second prediction.\n",
    "- For the image predictions that were true dog breeds, Labrador_retriever, Chihuahua and golden_retriever respectively were the most frequent in the case of the third prediction.\n",
    "\n",
    "**Proportion of True Dog Breeds Predictions**\n",
    "- In the case of the first prediction involving dog images, only 4.73% of the predictions made were true dog breeds.\n",
    "- In the case of the second prediction involving dog images, only 4.85% of the predictions made were true dog breeds.\n",
    "- In the case of the third prediction involving dog images, only 4.98% of the predictions made were true dog breeds.\n",
    "\n",
    "**Confidence Level of Predictions**\n",
    "- In the case of the first prediction of dog images, 63.52% of the true dog breeds predictions made had confidence level equal to or greater than 0.5.\n",
    "- In the case of the second prediction of dog images, none of the true dog breeds predictions made had confidence level equal to or greater than 0.5.\n",
    "- In the case of the third prediction of dog images, also none of the true dog breeds predictions made had confidence level equal to or greater than 0.5."
   ]
  },
  {
   "cell_type": "code",
   "execution_count": null,
   "metadata": {},
   "outputs": [],
   "source": []
  }
 ],
 "metadata": {
  "kernelspec": {
   "display_name": "Python 3 (ipykernel)",
   "language": "python",
   "name": "python3"
  },
  "language_info": {
   "codemirror_mode": {
    "name": "ipython",
    "version": 3
   },
   "file_extension": ".py",
   "mimetype": "text/x-python",
   "name": "python",
   "nbconvert_exporter": "python",
   "pygments_lexer": "ipython3",
   "version": "3.9.12"
  }
 },
 "nbformat": 4,
 "nbformat_minor": 4
}
